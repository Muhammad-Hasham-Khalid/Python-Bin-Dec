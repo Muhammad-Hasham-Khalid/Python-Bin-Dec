{
 "cells": [
  {
   "cell_type": "code",
   "execution_count": null,
   "metadata": {},
   "outputs": [],
   "source": [
    "#Algorithm for Conversion from Decimal System to Binary System in python 3x:\n",
    "num = int (input (\"Enter any positive integer : \"))\n",
    "binary = []\n",
    "while num!=1:\n",
    "    binary.append(num%2)\n",
    "    num=num//2\n",
    "binary.reverse()\n",
    "answer = 1\n",
    "for x in binary:\n",
    "    answer = answer*10+x\n",
    "print(\"Answer is :\" +str(answer))"
   ]
  },
  {
   "cell_type": "code",
   "execution_count": null,
   "metadata": {},
   "outputs": [],
   "source": [
    "#Algorithm for conversion from binary to decimal\n",
    "binary=str(input(\"Enter any binary number : \"))\n",
    "flag = False\n",
    "for each in binary:\n",
    "    if each!='0' and each!='1':\n",
    "        print(\"Error in input\")\n",
    "        flag = False\n",
    "        break\n",
    "    else:\n",
    "        flag = True\n",
    "if flag == True:\n",
    "    result = 0\n",
    "    exp = len(binary)-1\n",
    "    for x in range(0,len(binary)):\n",
    "        result = int(binary[x])*(2**exp)+result\n",
    "        exp-=1\n",
    "    print(result)"
   ]
  }
 ],
 "metadata": {
  "kernelspec": {
   "display_name": "Python 3",
   "language": "python",
   "name": "python3"
  },
  "language_info": {
   "codemirror_mode": {
    "name": "ipython",
    "version": 3
   },
   "file_extension": ".py",
   "mimetype": "text/x-python",
   "name": "python",
   "nbconvert_exporter": "python",
   "pygments_lexer": "ipython3",
   "version": "3.7.3"
  }
 },
 "nbformat": 4,
 "nbformat_minor": 2
}
